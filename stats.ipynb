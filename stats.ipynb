{
 "cells": [
  {
   "cell_type": "code",
   "execution_count": 1,
   "id": "c2e94275",
   "metadata": {},
   "outputs": [],
   "source": [
    "from pyspark.sql import SparkSession\n",
    "from dataset import load_dataset"
   ]
  },
  {
   "cell_type": "code",
   "execution_count": 2,
   "id": "d91f6756",
   "metadata": {},
   "outputs": [
    {
     "name": "stderr",
     "output_type": "stream",
     "text": [
      "23/12/08 22:05:03 WARN Utils: Your hostname, andrii-ROG-Strix-G712LW-G712LW resolves to a loopback address: 127.0.1.1; using 192.168.1.2 instead (on interface eno2)\n",
      "23/12/08 22:05:03 WARN Utils: Set SPARK_LOCAL_IP if you need to bind to another address\n",
      "WARNING: An illegal reflective access operation has occurred\n",
      "WARNING: Illegal reflective access by org.apache.spark.unsafe.Platform (file:/home/andrii/anaconda3/envs/big_data/lib/python3.9/site-packages/pyspark/jars/spark-unsafe_2.12-3.2.1.jar) to constructor java.nio.DirectByteBuffer(long,int)\n",
      "WARNING: Please consider reporting this to the maintainers of org.apache.spark.unsafe.Platform\n",
      "WARNING: Use --illegal-access=warn to enable warnings of further illegal reflective access operations\n",
      "WARNING: All illegal access operations will be denied in a future release\n",
      "Using Spark's default log4j profile: org/apache/spark/log4j-defaults.properties\n",
      "Setting default log level to \"WARN\".\n",
      "To adjust logging level use sc.setLogLevel(newLevel). For SparkR, use setLogLevel(newLevel).\n",
      "23/12/08 22:05:05 WARN NativeCodeLoader: Unable to load native-hadoop library for your platform... using builtin-java classes where applicable\n"
     ]
    }
   ],
   "source": [
    "ss = (SparkSession.builder\n",
    "        .master(\"local[4]\")\n",
    "        .appName(\"IMDBNotebbok\")\n",
    "        .config(\"spark.driver.memory\", \"12g\")\n",
    "        .config(\"spark.executor.memory\", \"3g\")\n",
    "        .getOrCreate())"
   ]
  },
  {
   "cell_type": "code",
   "execution_count": 3,
   "id": "652a097d",
   "metadata": {},
   "outputs": [
    {
     "data": {
      "text/plain": [
       "(DataFrame[nconst: string, primaryName: string, birthYear: int, deathYear: int, primaryProfession: string, knownForTitles: string],\n",
       " DataFrame[titleId: string, ordering: int, title: string, region: string, language: string, types: string, attributes: string, isOriginalTitle: boolean],\n",
       " DataFrame[tconst: string, titleType: string, primaryTitle: string, originalTitle: string, isAdult: boolean, startYear: int, endYear: int, runtimeMinutes: int, genres: string],\n",
       " DataFrame[tconst: string, directors: string, writers: string],\n",
       " DataFrame[tconst: string, parentTconst: string, seasonNumber: int, episodeNumber: int],\n",
       " DataFrame[tconst: string, ordering: int, nconst: string, category: string, job: string, characters: string],\n",
       " DataFrame[tconst: string, averageRating: float, numVotes: int])"
      ]
     },
     "execution_count": 3,
     "metadata": {},
     "output_type": "execute_result"
    }
   ],
   "source": [
    "d = load_dataset('./data', ss)\n",
    "\n",
    "d"
   ]
  },
  {
   "cell_type": "code",
   "execution_count": 4,
   "id": "3dc2057d",
   "metadata": {},
   "outputs": [],
   "source": [
    "nbasics_df, takas_df, tbasics_df, tcrew_df, tepisode_df, tprincipals_df, tratings_df = d"
   ]
  },
  {
   "cell_type": "code",
   "execution_count": 6,
   "id": "7740e073",
   "metadata": {},
   "outputs": [
    {
     "name": "stdout",
     "output_type": "stream",
     "text": [
      "root\n",
      " |-- nconst: string (nullable = true)\n",
      " |-- primaryName: string (nullable = true)\n",
      " |-- birthYear: integer (nullable = true)\n",
      " |-- deathYear: integer (nullable = true)\n",
      " |-- primaryProfession: string (nullable = true)\n",
      " |-- knownForTitles: string (nullable = true)\n",
      "\n"
     ]
    }
   ],
   "source": [
    "nbasics_df.printSchema()"
   ]
  },
  {
   "cell_type": "code",
   "execution_count": 7,
   "id": "89ee9051",
   "metadata": {},
   "outputs": [
    {
     "name": "stderr",
     "output_type": "stream",
     "text": [
      "                                                                                \r"
     ]
    },
    {
     "name": "stdout",
     "output_type": "stream",
     "text": [
      "+-------+---------+--------------------+------------------+------------------+--------------------+-------------------+\n",
      "|summary|   nconst|         primaryName|         birthYear|         deathYear|   primaryProfession|     knownForTitles|\n",
      "+-------+---------+--------------------+------------------+------------------+--------------------+-------------------+\n",
      "|  count| 13073872|            13073872|            599269|            222880|            10466231|           13073872|\n",
      "|   mean|     null|                 NaN|  1952.99417623805|1992.7173411701365|                null|               null|\n",
      "| stddev|     null|                 NaN|34.906762299479546| 34.52830998628093|                null|               null|\n",
      "|    min|nm0000001|!'aru Ikhuisi Pie...|                 1|                17|               actor|                 \\N|\n",
      "|    max|nm9993719|  ﻿Thesia Kouloungou|              2023|              2023|writer,visual_eff...|tt9916856,tt4247168|\n",
      "+-------+---------+--------------------+------------------+------------------+--------------------+-------------------+\n",
      "\n"
     ]
    }
   ],
   "source": [
    "nbasics_df.describe().show()"
   ]
  },
  {
   "cell_type": "code",
   "execution_count": 8,
   "id": "97d455cd",
   "metadata": {},
   "outputs": [
    {
     "name": "stderr",
     "output_type": "stream",
     "text": [
      "                                                                                \r"
     ]
    },
    {
     "name": "stdout",
     "output_type": "stream",
     "text": [
      "+-------+---------+------------------+--------+--------+--------+--------+------------------+\n",
      "|summary|  titleId|          ordering|   title|  region|language|   types|        attributes|\n",
      "+-------+---------+------------------+--------+--------+--------+--------+------------------+\n",
      "|  count| 38162768|          38162768|38162768|38162765|38162765|38162765|          38162765|\n",
      "|   mean|     null| 4.169262040950489|     NaN|    null|    null|    null|              null|\n",
      "| stddev|     null|3.9947729806230567|     NaN|    null|    null|    null|              null|\n",
      "|    min|tt0000001|                 1|   !Huff|      AD|      \\N|      \\N|16mm release title|\n",
      "|    max|tt9916856|               250|🧠+🧘=❤️|      \\N|      zu| working|     weekend title|\n",
      "+-------+---------+------------------+--------+--------+--------+--------+------------------+\n",
      "\n"
     ]
    },
    {
     "name": "stderr",
     "output_type": "stream",
     "text": [
      "                                                                                \r"
     ]
    },
    {
     "name": "stdout",
     "output_type": "stream",
     "text": [
      "+-------+---------+---------+--------------+-------------+------------------+------------------+-----------------+--------+\n",
      "|summary|   tconst|titleType|  primaryTitle|originalTitle|         startYear|           endYear|   runtimeMinutes|  genres|\n",
      "+-------+---------+---------+--------------+-------------+------------------+------------------+-----------------+--------+\n",
      "|  count| 10388629| 10388629|      10388629|     10388629|           9000658|            115685|          3122236|10388611|\n",
      "|   mean|     null|     null|           NaN|          NaN|2005.4522682674979|2006.4748843843195|43.50147746678983|    null|\n",
      "| stddev|     null|     null|           NaN|          NaN| 20.12752251726588|16.393910383979588|74.10125145858987|    null|\n",
      "|    min|tt0000001|    movie|        !Next?|       !Next?|              1874|              1906|                0|  Action|\n",
      "|    max|tt9916880|videoGame|【Oshi No Ko】|þetta reddast|              2031|              2030|            54321|      \\N|\n",
      "+-------+---------+---------+--------------+-------------+------------------+------------------+-----------------+--------+\n",
      "\n"
     ]
    },
    {
     "name": "stderr",
     "output_type": "stream",
     "text": [
      "                                                                                \r"
     ]
    },
    {
     "name": "stdout",
     "output_type": "stream",
     "text": [
      "+-------+---------+-------------------+-------------------+\n",
      "|summary|   tconst|          directors|            writers|\n",
      "+-------+---------+-------------------+-------------------+\n",
      "|  count| 10388629|           10388629|           10388629|\n",
      "|   mean|     null|               null|               null|\n",
      "| stddev|     null|               null|               null|\n",
      "|    min|tt0000001|                 \\N|                 \\N|\n",
      "|    max|tt9916880|nm9993709,nm9993708|nm9993713,nm3125335|\n",
      "+-------+---------+-------------------+-------------------+\n",
      "\n"
     ]
    },
    {
     "name": "stderr",
     "output_type": "stream",
     "text": [
      "                                                                                \r"
     ]
    },
    {
     "name": "stdout",
     "output_type": "stream",
     "text": [
      "+-------+---------+------------+------------------+------------------+\n",
      "|summary|   tconst|parentTconst|      seasonNumber|     episodeNumber|\n",
      "+-------+---------+------------+------------------+------------------+\n",
      "|  count|  7933158|     7933158|           6323344|           6323344|\n",
      "|   mean|     null|        null|3.7367467276807966| 407.9223567466834|\n",
      "| stddev|     null|        null|23.975330502009836|1309.3105481872742|\n",
      "|    min|tt0041951|   tt0035599|                 1|                 0|\n",
      "|    max|tt9916880|   tt9916678|              2021|             91334|\n",
      "+-------+---------+------------+------------------+------------------+\n",
      "\n"
     ]
    },
    {
     "name": "stderr",
     "output_type": "stream",
     "text": [
      "                                                                                \r"
     ]
    },
    {
     "name": "stdout",
     "output_type": "stream",
     "text": [
      "+-------+---------+------------------+---------+--------+------------------+-------------------+\n",
      "|summary|   tconst|          ordering|   nconst|category|               job|         characters|\n",
      "+-------+---------+------------------+---------+--------+------------------+-------------------+\n",
      "|  count| 59479567|          59479567| 59479567|59479567|          59479567|           59479567|\n",
      "|   mean|     null| 4.614600455985162|     null|    null|              null|               null|\n",
      "| stddev|     null|2.7875246361885426|     null|    null|              null|               null|\n",
      "|    min|tt0000001|                 1|nm0000001|   actor|\"A Box in Town\" by|[\"!CF\",\"CF\",\"Self\"]|\n",
      "|    max|tt9916880|                10|nm9993718|  writer|         écrit par|                 \\N|\n",
      "+-------+---------+------------------+---------+--------+------------------+-------------------+\n",
      "\n"
     ]
    },
    {
     "name": "stderr",
     "output_type": "stream",
     "text": [
      "\r",
      "[Stage 18:>                                                         (0 + 1) / 1]\r"
     ]
    },
    {
     "name": "stdout",
     "output_type": "stream",
     "text": [
      "+-------+---------+------------------+------------------+\n",
      "|summary|   tconst|     averageRating|          numVotes|\n",
      "+-------+---------+------------------+------------------+\n",
      "|  count|  1377957|           1377957|           1377957|\n",
      "|   mean|     null|  6.95926549849447|1037.2335711491723|\n",
      "| stddev|     null|1.3835238186091465|17593.505112277722|\n",
      "|    min|tt0000001|               1.0|                 5|\n",
      "|    max|tt9916880|              10.0|           2826998|\n",
      "+-------+---------+------------------+------------------+\n",
      "\n"
     ]
    },
    {
     "name": "stderr",
     "output_type": "stream",
     "text": [
      "\r",
      "                                                                                \r"
     ]
    }
   ],
   "source": [
    "takas_df.describe().show()\n",
    "tbasics_df.describe().show()\n",
    "tcrew_df.describe().show()\n",
    "tepisode_df.describe().show()\n",
    "tprincipals_df.describe().show()\n",
    "tratings_df.describe().show()"
   ]
  },
  {
   "cell_type": "code",
   "execution_count": 5,
   "id": "16bf122d",
   "metadata": {
    "scrolled": true
   },
   "outputs": [
    {
     "name": "stderr",
     "output_type": "stream",
     "text": [
      "                                                                                \r"
     ]
    },
    {
     "name": "stdout",
     "output_type": "stream",
     "text": [
      "+-------+---------+------------------+------------------+\n",
      "|summary|   tconst|     averageRating|          numVotes|\n",
      "+-------+---------+------------------+------------------+\n",
      "|  count|  1377957|           1377957|           1377957|\n",
      "|   mean|     null|  6.95926549849447|1037.2335711491723|\n",
      "| stddev|     null|1.3835238186091465|17593.505112277722|\n",
      "|    min|tt0000001|               1.0|                 5|\n",
      "|    max|tt9916880|              10.0|           2826998|\n",
      "+-------+---------+------------------+------------------+\n",
      "\n"
     ]
    }
   ],
   "source": [
    "tratings_df.describe().show()"
   ]
  },
  {
   "cell_type": "code",
   "execution_count": 8,
   "id": "e42aedf7",
   "metadata": {},
   "outputs": [
    {
     "name": "stdout",
     "output_type": "stream",
     "text": [
      "root\n",
      " |-- tconst: string (nullable = true)\n",
      " |-- averageRating: float (nullable = true)\n",
      " |-- numVotes: integer (nullable = true)\n",
      "\n"
     ]
    }
   ],
   "source": [
    "tratings_df.printSchema()"
   ]
  },
  {
   "cell_type": "code",
   "execution_count": 10,
   "id": "b0b14368",
   "metadata": {},
   "outputs": [
    {
     "name": "stderr",
     "output_type": "stream",
     "text": [
      "\r",
      "[Stage 3:>                                                          (0 + 1) / 1]\r"
     ]
    },
    {
     "name": "stdout",
     "output_type": "stream",
     "text": [
      "+-------+------------------+------------------+\n",
      "|summary|     averageRating|          numVotes|\n",
      "+-------+------------------+------------------+\n",
      "|  count|           1377957|           1377957|\n",
      "|   mean|  6.95926549849447|1037.2335711491723|\n",
      "| stddev|1.3835238186091465|17593.505112277722|\n",
      "|    min|               1.0|                 5|\n",
      "|    25%|               6.2|                11|\n",
      "|    50%|               7.2|                26|\n",
      "|    75%|               7.9|               101|\n",
      "|    max|              10.0|           2826998|\n",
      "+-------+------------------+------------------+\n",
      "\n"
     ]
    },
    {
     "name": "stderr",
     "output_type": "stream",
     "text": [
      "\r",
      "                                                                                \r"
     ]
    }
   ],
   "source": [
    "tratings_df.select('averageRating', 'numVotes').summary().show()"
   ]
  }
 ],
 "metadata": {
  "kernelspec": {
   "display_name": "big_data",
   "language": "python",
   "name": "big_data"
  },
  "language_info": {
   "codemirror_mode": {
    "name": "ipython",
    "version": 3
   },
   "file_extension": ".py",
   "mimetype": "text/x-python",
   "name": "python",
   "nbconvert_exporter": "python",
   "pygments_lexer": "ipython3",
   "version": "3.9.18"
  }
 },
 "nbformat": 4,
 "nbformat_minor": 5
}
